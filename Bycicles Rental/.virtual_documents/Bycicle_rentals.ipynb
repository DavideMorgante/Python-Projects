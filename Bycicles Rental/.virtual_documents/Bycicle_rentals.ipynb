


import pandas as pd
import numpy as np
import matplotlib.pyplot as plt

plt.rcParams['figure.figsize']=[10,5]





bike_data = pd.read_csv('day.csv')
bike_data





bike_data['date']=pd.to_datetime(bike_data['dteday'])


bike_data





plt.scatter(bike_data['date'],bike_data['cnt'],c=bike_data['weathersit'])
plt.xlabel('Date (YYYY-MM)')
plt.ylabel('Bycicles Rented')
plt.show()


print(' Mean number of bikes rented on weather 1:',bike_data[bike_data['weathersit']==1]['cnt'].mean(),'\n',
      'Mean number of bikes rented on weather 2:',bike_data[bike_data['weathersit']==2]['cnt'].mean(),'\n',
      'Mean number of bikes rented on weather 3:',bike_data[bike_data['weathersit']==3]['cnt'].mean())





plt.scatter(bike_data['atemp'],bike_data['cnt'])
plt.xlabel('Normalised Temperature')
plt.ylabel('Bycicles Rented')
plt.show()


bike_data[['cnt','atemp']].corr()


bike_data[['cnt','temp']].corr()


bike_data[['cnt','atemp','temp','hum','windspeed','weathersit']].corr()








from sklearn.linear_model import LinearRegression


lr = LinearRegression()
lr.fit(bike_data['atemp'].values.reshape(-1,1), bike_data['cnt'].values.reshape(-1,1))


plt.scatter(bike_data['atemp'],bike_data['cnt'])
plt.xlabel('Normalized Temperature')
plt.ylabel('Bycicles Rented')
plt.plot(bike_data['atemp'],lr.predict(bike_data['atemp'].values.reshape(-1,1)),'--r')
plt.show()


training_set = bike_data[bike_data['date'] < '2012-06-01']
validation_set = bike_data[bike_data['date'] >= '2012-06-01']

training_inputs = training_set[['atemp', 'workingday', 'hum', 'weathersit', 'windspeed']].values
training_outputs = training_set[['cnt']].values

validation_inputs = validation_set[['atemp', 'workingday', 'hum', 'weathersit', 'windspeed']].values
validation_outputs = validation_set[['cnt']].values

lr.fit(training_inputs,training_outputs)


plt.scatter(training_set['date'], training_set['cnt'])
plt.scatter(training_set['date'], lr.predict(training_inputs))
plt.show()


plt.scatter(validation_set['date'], validation_set['cnt'])
plt.scatter(validation_set['date'], lr.predict(validation_inputs))
plt.show()

rmse=np.sqrt(((lr.predict(validation_inputs)-validation_outputs)**2).mean())
print('Root mean square error for this model:',rmse)











bike_data['last_week'] = (bike_data['cnt'].cumsum() - bike_data['cnt'].cumsum().shift(7))/7
bike_data = bike_data.dropna()


bike_data


training_set = bike_data[bike_data['date'] < '2012-06-01']
validation_set = bike_data[bike_data['date'] >= '2012-06-01']

training_inputs = training_set[['atemp', 'workingday', 'hum', 'weathersit', 'windspeed', 'last_week']].values
training_outputs = training_set[['cnt']].values

validation_inputs = validation_set[['atemp', 'workingday', 'hum', 'weathersit', 'windspeed', 'last_week']].values
validation_outputs = validation_set[['cnt']].values

lr.fit(training_inputs,training_outputs)

plt.scatter(training_set['date'], training_set['cnt'])
plt.scatter(training_set['date'], lr.predict(training_inputs))
plt.show()

plt.scatter(validation_set['date'], validation_set['cnt'])
plt.scatter(validation_set['date'], lr.predict(validation_inputs))
plt.show()

rmse=np.sqrt(((lr.predict(validation_inputs)-validation_outputs)**2).mean())
print('Root mean square error for this model:',rmse)





bike_data.head()





dummy_fields = ['season', 'weathersit', 'mnth', 'weekday']
for dummy in dummy_fields:
    dummies = pd.get_dummies(bike_data[dummy], prefix=dummy, drop_first=False)
    bike_data = pd.concat([bike_data,dummies],axis=1)

fields_to_drop = ['instant', 'dteday', 'season', 'weathersit', 'weekday', 'atemp', 'mnth', 'workingday']

data = bike_data.drop(fields_to_drop, axis=1)
data.head()





quant_features = ['casual', 'registered', 'cnt', 'temp', 'hum', 'windspeed']
scaled_features = {}
for each in quant_features:
    mean, std = data[each].mean(), data[each].std()
    scaled_features[each] = [mean,std]
    data.loc[:,each] = (data[each] - mean)/std


data.head()








test_data=data[-21*24:]

data = data[:-21*24]

target_fields = ['cnt', 'casual', 'registered']
features, targets = data.drop(target_fields, axis=1), data[target_fields]
test_features, test_targets = test_data.drop(target_fields, axis=1), test_data[target_fields]


train_features, train_targets = features[:-60*24], targets[:-60*24]
val_features, val_targets = features[-60*24:], targets[-60*24:]





class NeuralNetwork(object):
    def __init__(self, input_nodes, hidden_nodes, output_nodes, learning_rate):
        # Set number of nodes
        self.input_nodes = input_nodes
        self.hidden_nodes = hidden_nodes
        self.output_nodes = output_nodes

        # Initialize weights 
        self.weights_input_to_hidden = np.random.normal(0.0, self.input_nodes**-0.5, (self.input_nodes, self.hidden_nodes))

        self.weights_hidden_to_output = np.random.normal(0.0, self.hidden_nodes**-0.5, (self.hidden_nodes, self.output_nodes))

        self.lr = learning_rate

        # Sigmoid function for activation of nodes
        self.activation_function = lambda x : 1/(1+np.exp(-x))

    def train(self, features, targets):
        ''' Train the network on batch of features and targets. 

        features: 2d array, each row is one data record, each column is a feature
        targets: 1d array of target values 

        '''
        n_records = feature.shape[0]
        delta_weights_i_h = np.zeros(self.weights_input_to_hidden.shape)
        delta_weights_h_o = np.zeros(self.weights_hidden_to_output.shape)

        for X,y in zip(features, targets):
            final_outputs, hidden_outputs = self.forward_pass_train(X)
            delta_weights_i_h, delta_weights_h_o = self.backpropagation(final_outputs, hidden_outputs, X, y, delta_weights_i_h, delta_weights_h_o)
            self.update_weights(delta_weights_i_h, delta_weights_h_o, n_records)

    def forward_pass_train(self, X):
        ''' Implement forward pass

        X: features batch
        '''
        hidden_inputs = np.dot(X, self.weights_input_to_hidden) 
        hidden_outputs = self.activation_function(hidden_inputs) 

       
        final_inputs = np.dot(hidden_outputs, self.weights_hidden_to_output) 
        final_outputs = final_inputs 
        
        return final_outputs, hidden_outputs

    def backpropagation(self, final_outputs, hidden_outputs, X, y, delta_weights_i_h, delta_weights_h_o):
        error = y - final_outputs
        hidden_error = np.dot(self.weights_hidden_to_output, error) 
        output_error_term = error
        hidden_error_term = hidden_error * hidden_outputs * (1 - hidden_outputs)
        delta_weights_i_h += hidden_error_term * X[:,None]
        delta_weights_h_o += output_error_term * hidden_outputs[:,None]
        
        return delta_weights_i_h, delta_weights_h_o
   
    def update_weights(self, delta_weights_i_h, delta_weights_h_o, n_records):
        ''' Update weights on gradient descent step
         
            delta_weights_i_h: change in weights from input to hidden layers
            delta_weights_h_o: change in weights from hidden to output layers
            n_records: number of records
        '''
        self.weights_hidden_to_output += self.lr*delta_weights_h_o/n_records 
        self.weights_input_to_hidden += self.lr*delta_weights_i_h/n_records

    def run(self, features):
        ''' Run a forward pass through the network with input features 

            features: 1d array of feature values
        '''
        
       
        hidden_inputs =  np.dot(features, self.weights_input_to_hidden)
        hidden_outputs = self.activation_function(hidden_inputs)
        
       
        final_inputs = np.dot(hidden_outputs, self.weights_hidden_to_output)
        final_outputs = final_inputs 
        
        return final_outputs






iterations = 5000
learning_rate = 0.5
hidden_nodes = 20
output_nodes = 1


def MSE(y,Y):
    return np.mean((y-Y)**2)





import sys
N_i = train_features.shape[1]
network = NeuralNetwork(N_i, hidden_nodes, output_nodes, learning_rate)

losses = {'train' : [], 'validation': []}
for ii in range(iterations):
    batch = np.random.choice(train_features.index, size=128)
    X, y = train_features.iloc[batch].values, train_targets.iloc[batch]['cnt']

    network.train(X, y)

    train_loss = MSE(network.run(train_features).T, train_targets['cnt'].values)
    val_loss = MSE(network.run(val_features).T, val_targets['cnt'].values)
    
    sys.stdout.write("\rProgress: {:2.1f}".format(100 * ii/float(iterations)) \
                     + "% ... Training loss: " + str(train_loss)[:5] \
                     + " ... Validation loss: " + str(val_loss)[:5])
    sys.stdout.flush()
    
    losses['train'].append(train_loss)
    losses['validation'].append(val_loss)


train_features



