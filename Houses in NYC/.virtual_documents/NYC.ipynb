





import kagglehub

# Download latest version
path = kagglehub.dataset_download("nelgiriyewithana/new-york-housing-market")

print("Path to dataset files:", path)


import numpy as np
import pandas as pd
import matplotlib.pyplot as plt 
import seaborn as sns


data = pd.read_csv('/Users/davidemorgante/.cache/kagglehub/datasets/nelgiriyewithana/new-york-housing-market/versions/1/NY-House-Dataset.csv')
data


data.info()





data.drop(columns=['BROKERTITLE', 'MAIN_ADDRESS', 'FORMATTED_ADDRESS'], inplace=True)
data.head()





data.isnull().sum()





data.duplicated().sum()


data.drop_duplicates(inplace=True)





data.describe()


data


# We take the type column and count them, the index method outputs the strings of the various types
plt.bar(data['TYPE'].value_counts().index, data['TYPE'].value_counts())
plt.xlabel('Type of realty')
plt.ylabel('Count')
plt.title('Number of Realty types')
plt.xticks(rotation=90)
plt.show()


plt.bar(data['STREET_NAME'].value_counts().index[:20], 
        data['STREET_NAME'].value_counts()[:20])
plt.xlabel('Street name')
plt.ylabel('Count')
plt.title('Number of Realty per street')
plt.xticks(rotation=90)
plt.show()


# Calculate the skewness for each column
for col in data.select_dtypes(include=[np.number]).columns:
    skewness = data[col].skew()
    print(f'Skewness for {col}: {skewness}')





plt.subplot(1,2,1)
plt.boxplot(data['BEDS'])
plt.xlabel('Number of beds')
plt.ylabel('Frequency')
plt.title('Beds')

plt.subplot(1,2,2)
sns.histplot(data['BEDS'],bins=20, kde=True)
plt.xlabel('Number of beds')
plt.ylabel('Counts')
plt.title('Distirbution of the number of beds per apartment')

plt.show()


plt.subplot(1,2,1)
plt.boxplot(data['BATH'])
plt.xlabel('Number of baths')
plt.ylabel('Frequency')
plt.title('Baths')

plt.subplot(1,2,2)
sns.histplot(data['BATH'], bins=20, kde=True)
plt.xlabel('Number of bathr')
plt.ylabel('Counts')
plt.title('Distirbution of the number of beds per apartment')

plt.show()


plt.subplot(1,2,1)
plt.boxplot(data['PROPERTYSQFT'])
plt.xlabel('Number of square footage')
plt.ylabel('Frequency')
plt.title('Square footage')

plt.subplot(1,2,2)
sns.histplot(data['PROPERTYSQFT'], bins=20, kde=True)
plt.xlabel('Number of square footage')
plt.ylabel('Counts')
plt.title('Distirbution of the number of PROPERTYSQFT per apartment')

plt.show()


plt.subplot(1,2,1)
plt.boxplot(data['PRICE'])
plt.xlabel('Number of price')
plt.ylabel('Frequency')
plt.title('Price')

plt.subplot(1,2,2)
sns.histplot(data['PRICE'], bins=20, kde=True)
plt.xlabel('Number of price')
plt.ylabel('Counts')
plt.title('Distirbution of the number of PRICE per apartment')

plt.show()





plt.subplot(1,2,1)
plt.boxplot(data['LATITUDE'])
plt.xlabel('Number of LATITUDE')
plt.ylabel('Frequency')
plt.title('Latitude')

plt.subplot(1,2,2)
sns.histplot(data['LATITUDE'], bins=20, kde=True)
plt.xlabel('Number of LATITUDE')
plt.ylabel('Counts')
plt.title('Distirbution of the LATITUDE per apartment')

plt.show()





plt.subplot(1,2,1)
plt.boxplot(data['LONGITUDE'])
plt.xlabel('Number of LONGITUDE')
plt.ylabel('Frequency')
plt.title('Longitude')

plt.subplot(1,2,2)
sns.histplot(data['LONGITUDE'], bins=20, kde=True)
plt.xlabel('Number of LONGITUDE')
plt.ylabel('Counts')
plt.title('Distirbution of the LONGITUDE per apartment')

plt.show()





filt_data = data.iloc[:,[1,2,3,4,12,13]]
filt_data


for col in filt_data.columns:
    Q1 = filt_data[col].quantile(.25)
    Q3 = filt_data[col].quantile(.75)
    IQR = Q3-Q1
    lower_bound = Q1 - 1.5 * IQR
    upper_bound = Q3 + 1.5 * IQR
    data[col] = filt_data[(filt_data[col] >= lower_bound) 
                        & (filt_data[col] <= upper_bound)][col]


data.info()


data.isna().sum()


data.dropna(inplace=True)





for col in data.select_dtypes(include = [np.number]).columns:
    skewness = data[col].skew()
    print(f'Skewness for {col}: {skewness}')


data.describe()





plt.subplot(1,2,1)
plt.boxplot(data['PRICE'])
plt.xlabel('Number of price')
plt.ylabel('Frequency')
plt.title('Price')

plt.subplot(1,2,2)
sns.histplot(data['PRICE'], bins=20, kde=True)
plt.xlabel('Number of price')
plt.ylabel('Counts')
plt.title('Distirbution of the number of PRICE per apartment')

plt.show()








plt.bar(data['STATE'].value_counts().index[:20],data['STATE'].value_counts()[:20])
plt.xticks(rotation=90)
plt.xlabel('State')
plt.ylabel('Count')
plt.title('Houses per state, only 20 highest counts')
plt.show()


plt.bar(data['ADMINISTRATIVE_AREA_LEVEL_2'].value_counts().index[:20],
        data['ADMINISTRATIVE_AREA_LEVEL_2'].value_counts()[:20])
plt.xticks(rotation=90)
plt.xlabel('Adiministrative area')
plt.ylabel('Count')
plt.title('Houses per administrative area, only 20 highest counts')
plt.show()


plt.bar(data['SUBLOCALITY'].value_counts().index,
        data['SUBLOCALITY'].value_counts())
plt.xticks(rotation=90)
plt.xlabel('Sublocality')
plt.ylabel('Count')
plt.title('Houses per sublocality')
plt.show()





data.drop(columns=['ADDRESS', 'LONG_NAME'],inplace=True)


plt.bar(data.LOCALITY,data.PRICE)
plt.xticks(rotation=90)
plt.xlabel('Locality')
plt.ylabel('Price')
plt.show()





data['PRICE_SQRF'] = data.PRICE/data.PROPERTYSQFT


sns.set_theme(rc={'figure.figsize':(11.7,8.27)})
sns.boxplot(data = data,
            y = 'LOCALITY',
            x = 'PRICE')
            #hue = 'TYPE')
plt.xticks(rotation=90)
plt.title('Price of houses per locality')

plt.show()

#plt.savefig('test.pdf',format='pdf', dpi=600)


correlation.corr()


locality_dict = {key: value for key, value in zip(data['LOCALITY'].drop_duplicates(),range(11))} 


data['LOC_NUM']=data['LOCALITY'].replace(locality_dict)





correlation = pd.DataFrame()
for col in data.select_dtypes(include=[np.number]).columns:
    correlation[col] = data[col]
correlation


sns.heatmap(correlation.corr(), annot=True, cmap='coolwarm')
plt.show()





from sklearn.linear_model import LinearRegression


lr=LinearRegression()


lr.fit(data['PROPERTYSQFT'].values.reshape(-1,1), data['PRICE'].values.reshape(-1,1))

plt.scatter(data['PROPERTYSQFT'],data['PRICE'])
plt.plot(data['PROPERTYSQFT'], lr.predict(data['PROPERTYSQFT'].values.reshape(-1,1)), c='red')
plt.xlabel('Property size (ft^2)')
plt.ylabel('Price (USD)')
plt.show()


correlation


df=correlation
training_set = df[df['PROPERTYSQFT'] > 2000]
validation_set = df[df['PROPERTYSQFT'] <= 2000]

training_inputs = training_set[['BEDS', 'BATH', 'PROPERTYSQFT', 'LATITUDE', 'LONGITUDE', 'PRICE_SQRF', 'LOC_NUM']].values
training_outputs = training_set[['PRICE']].values

validation_inputs = validation_set[['BEDS', 'BATH', 'PROPERTYSQFT', 'LATITUDE', 'LONGITUDE', 'PRICE_SQRF', 'LOC_NUM']].values
validation_outputs = validation_set[['PRICE']].values

lr = LinearRegression()
lr.fit(training_inputs, training_outputs)


# plt.scatter(lr.predict(validation_inputs), validation_outputs)
plt.scatter(validation_set['PROPERTYSQFT'], validation_set['PRICE'])
plt.scatter(validation_set['PROPERTYSQFT'], lr.predict(validation_inputs))
plt.show()

plt.scatter(training_set['PROPERTYSQFT'], training_set['PRICE'])
plt.scatter(training_set['PROPERTYSQFT'], lr.predict(training_inputs))
plt.show()

rmse = np.sqrt(((lr.predict(validation_inputs) - validation_outputs)**2).mean())
rmse



